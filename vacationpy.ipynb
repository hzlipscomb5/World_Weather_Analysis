{
 "cells": [
  {
   "cell_type": "code",
   "execution_count": 4,
   "source": [
    "# Import the dependencies.\r\n",
    "import pandas as pd\r\n",
    "import gmaps\r\n",
    "import requests\r\n",
    "# Import the API key.\r\n",
    "from config import g_key"
   ],
   "outputs": [],
   "metadata": {}
  },
  {
   "cell_type": "code",
   "execution_count": 5,
   "source": [
    "# Store the CSV you saved created in part one into a DataFrame.\r\n",
    "city_data_df = pd.read_csv(\"weather_data/cities.csv\")\r\n",
    "city_data_df.head()"
   ],
   "outputs": [
    {
     "output_type": "execute_result",
     "data": {
      "text/plain": [
       "   City_ID         City Country                 Date      Lat       Lng  \\\n",
       "0        0      Ushuaia      AR  2021-07-23 01:11:10 -54.8000  -68.3000   \n",
       "1        1    Saskylakh      RU  2021-07-23 01:11:10  71.9167  114.0833   \n",
       "2        2  New Norfolk      AU  2021-07-23 01:11:10 -42.7826  147.0587   \n",
       "3        3    Jamestown      US  2021-07-23 01:08:58  42.0970  -79.2353   \n",
       "4        4      Kartuzy      PL  2021-07-23 01:11:11  54.3342   18.1974   \n",
       "\n",
       "   Max Temp  Humidity  Cloudiness  Wind Speed  \n",
       "0     38.86        70          75        4.61  \n",
       "1     66.29        67          53        9.10  \n",
       "2     55.71        58          47        4.00  \n",
       "3     65.79        67           1        1.81  \n",
       "4     56.57        97           0        3.44  "
      ],
      "text/html": [
       "<div>\n",
       "<style scoped>\n",
       "    .dataframe tbody tr th:only-of-type {\n",
       "        vertical-align: middle;\n",
       "    }\n",
       "\n",
       "    .dataframe tbody tr th {\n",
       "        vertical-align: top;\n",
       "    }\n",
       "\n",
       "    .dataframe thead th {\n",
       "        text-align: right;\n",
       "    }\n",
       "</style>\n",
       "<table border=\"1\" class=\"dataframe\">\n",
       "  <thead>\n",
       "    <tr style=\"text-align: right;\">\n",
       "      <th></th>\n",
       "      <th>City_ID</th>\n",
       "      <th>City</th>\n",
       "      <th>Country</th>\n",
       "      <th>Date</th>\n",
       "      <th>Lat</th>\n",
       "      <th>Lng</th>\n",
       "      <th>Max Temp</th>\n",
       "      <th>Humidity</th>\n",
       "      <th>Cloudiness</th>\n",
       "      <th>Wind Speed</th>\n",
       "    </tr>\n",
       "  </thead>\n",
       "  <tbody>\n",
       "    <tr>\n",
       "      <th>0</th>\n",
       "      <td>0</td>\n",
       "      <td>Ushuaia</td>\n",
       "      <td>AR</td>\n",
       "      <td>2021-07-23 01:11:10</td>\n",
       "      <td>-54.8000</td>\n",
       "      <td>-68.3000</td>\n",
       "      <td>38.86</td>\n",
       "      <td>70</td>\n",
       "      <td>75</td>\n",
       "      <td>4.61</td>\n",
       "    </tr>\n",
       "    <tr>\n",
       "      <th>1</th>\n",
       "      <td>1</td>\n",
       "      <td>Saskylakh</td>\n",
       "      <td>RU</td>\n",
       "      <td>2021-07-23 01:11:10</td>\n",
       "      <td>71.9167</td>\n",
       "      <td>114.0833</td>\n",
       "      <td>66.29</td>\n",
       "      <td>67</td>\n",
       "      <td>53</td>\n",
       "      <td>9.10</td>\n",
       "    </tr>\n",
       "    <tr>\n",
       "      <th>2</th>\n",
       "      <td>2</td>\n",
       "      <td>New Norfolk</td>\n",
       "      <td>AU</td>\n",
       "      <td>2021-07-23 01:11:10</td>\n",
       "      <td>-42.7826</td>\n",
       "      <td>147.0587</td>\n",
       "      <td>55.71</td>\n",
       "      <td>58</td>\n",
       "      <td>47</td>\n",
       "      <td>4.00</td>\n",
       "    </tr>\n",
       "    <tr>\n",
       "      <th>3</th>\n",
       "      <td>3</td>\n",
       "      <td>Jamestown</td>\n",
       "      <td>US</td>\n",
       "      <td>2021-07-23 01:08:58</td>\n",
       "      <td>42.0970</td>\n",
       "      <td>-79.2353</td>\n",
       "      <td>65.79</td>\n",
       "      <td>67</td>\n",
       "      <td>1</td>\n",
       "      <td>1.81</td>\n",
       "    </tr>\n",
       "    <tr>\n",
       "      <th>4</th>\n",
       "      <td>4</td>\n",
       "      <td>Kartuzy</td>\n",
       "      <td>PL</td>\n",
       "      <td>2021-07-23 01:11:11</td>\n",
       "      <td>54.3342</td>\n",
       "      <td>18.1974</td>\n",
       "      <td>56.57</td>\n",
       "      <td>97</td>\n",
       "      <td>0</td>\n",
       "      <td>3.44</td>\n",
       "    </tr>\n",
       "  </tbody>\n",
       "</table>\n",
       "</div>"
      ]
     },
     "metadata": {},
     "execution_count": 5
    }
   ],
   "metadata": {}
  },
  {
   "cell_type": "code",
   "execution_count": 6,
   "source": [
    "city_data_df.dtypes"
   ],
   "outputs": [
    {
     "output_type": "execute_result",
     "data": {
      "text/plain": [
       "City_ID         int64\n",
       "City           object\n",
       "Country        object\n",
       "Date           object\n",
       "Lat           float64\n",
       "Lng           float64\n",
       "Max Temp      float64\n",
       "Humidity        int64\n",
       "Cloudiness      int64\n",
       "Wind Speed    float64\n",
       "dtype: object"
      ]
     },
     "metadata": {},
     "execution_count": 6
    }
   ],
   "metadata": {}
  },
  {
   "cell_type": "code",
   "execution_count": 7,
   "source": [
    "# Configure gmaps to use your Google API key.\r\n",
    "gmaps.configure(api_key=g_key)"
   ],
   "outputs": [],
   "metadata": {}
  },
  {
   "cell_type": "code",
   "execution_count": 16,
   "source": [
    "# Heatmap of temperature\r\n",
    "# Get the latitude and longitude.\r\n",
    "locations = city_data_df[[\"Lat\", \"Lng\"]]\r\n",
    "# Get the maximum temperature.\r\n",
    "max_temp = city_data_df[\"Max Temp\"]\r\n",
    "# Assign the figure variable.\r\n",
    "fig = gmaps.figure(center=(30.0, 31.0), zoom_level=2.1)\r\n",
    "# Assign the heatmap variable.\r\n",
    "heat_layer = gmaps.heatmap_layer(locations, weights=max_temp)\r\n",
    "# Add the heatmap layer.\r\n",
    "fig.add_layer(heat_layer)\r\n",
    "# Call the figure to plot the data.\r\n",
    "fig"
   ],
   "outputs": [
    {
     "output_type": "display_data",
     "data": {
      "text/plain": [
       "Figure(layout=FigureLayout(height='420px'))"
      ],
      "application/vnd.jupyter.widget-view+json": {
       "version_major": 2,
       "version_minor": 0,
       "model_id": "5856e2fc10f84109b1c15fd4ac513828"
      }
     },
     "metadata": {}
    }
   ],
   "metadata": {}
  },
  {
   "cell_type": "code",
   "execution_count": 18,
   "source": [
    "#The default option for the dissipation is \"True,\" so we need to set our \"dissipation\" to \"False.\"\r\n",
    "#We can add max_intensity to make each measurement have a better gradient variance.\r\n",
    "#We can add point_radius to make each measurement radius larger.\r\n",
    "#Also, you'll have to tweak these values until you are satisfied with the final map.\r\n",
    "\r\n",
    "# Heatmap of percent humidity\r\n",
    "locations = city_data_df[[\"Lat\", \"Lng\"]]\r\n",
    "humidity = city_data_df[\"Humidity\"]\r\n",
    "fig = gmaps.figure(center=(30.0, 31.0), zoom_level=2.1)\r\n",
    "heat_layer = gmaps.heatmap_layer(locations, weights=humidity, dissipating=False, max_intensity=300, point_radius=4)\r\n",
    "\r\n",
    "fig.add_layer(heat_layer)\r\n",
    "# Call the figure to plot the data.\r\n",
    "fig"
   ],
   "outputs": [
    {
     "output_type": "display_data",
     "data": {
      "text/plain": [
       "Figure(layout=FigureLayout(height='420px'))"
      ],
      "application/vnd.jupyter.widget-view+json": {
       "version_major": 2,
       "version_minor": 0,
       "model_id": "751fa527556b48f0a7967006b6bd5b43"
      }
     },
     "metadata": {}
    }
   ],
   "metadata": {}
  },
  {
   "cell_type": "code",
   "execution_count": 20,
   "source": [
    "# Heatmap of percent humidity\r\n",
    "locations = city_data_df[[\"Lat\", \"Lng\"]]\r\n",
    "humidity = city_data_df[\"Humidity\"]\r\n",
    "fig = gmaps.figure(center=(30.0, 31.0), zoom_level=2.1)\r\n",
    "heat_layer = gmaps.heatmap_layer(locations, weights=humidity, dissipating=False, max_intensity=300, point_radius=4)\r\n",
    "\r\n",
    "fig.add_layer(heat_layer)\r\n",
    "# Call the figure to plot the data.\r\n",
    "fig"
   ],
   "outputs": [
    {
     "output_type": "display_data",
     "data": {
      "text/plain": [
       "Figure(layout=FigureLayout(height='420px'))"
      ],
      "application/vnd.jupyter.widget-view+json": {
       "version_major": 2,
       "version_minor": 0,
       "model_id": "0e16394df07c48bc9fe14e0b38c5d3d4"
      }
     },
     "metadata": {}
    }
   ],
   "metadata": {}
  },
  {
   "cell_type": "code",
   "execution_count": 23,
   "source": [
    "# Heatmap of percent cloudiness\r\n",
    "locations = city_data_df[[\"Lat\", \"Lng\"]]\r\n",
    "clouds = city_data_df[\"Cloudiness\"]\r\n",
    "fig = gmaps.figure(center=(30.0, 31.0), zoom_level=1.5)\r\n",
    "heat_layer = gmaps.heatmap_layer(locations, weights=clouds, dissipating=False, max_intensity=300, point_radius=4)\r\n",
    "\r\n",
    "fig.add_layer(heat_layer)\r\n",
    "# Call the figure to plot the data.\r\n",
    "fig"
   ],
   "outputs": [
    {
     "output_type": "display_data",
     "data": {
      "text/plain": [
       "Figure(layout=FigureLayout(height='420px'))"
      ],
      "application/vnd.jupyter.widget-view+json": {
       "version_major": 2,
       "version_minor": 0,
       "model_id": "6bcb99d953d643ffae99d513b56bd2b5"
      }
     },
     "metadata": {}
    }
   ],
   "metadata": {}
  },
  {
   "cell_type": "code",
   "execution_count": 29,
   "source": [
    "# Heatmap of percent cloudiness\r\n",
    "locations = city_data_df[[\"Lat\", \"Lng\"]]\r\n",
    "wind = city_data_df[\"Wind Speed\"]\r\n",
    "fig = gmaps.figure(center=(30.0, 31.0), zoom_level=1.5)\r\n",
    "heat_layer = gmaps.heatmap_layer(locations, weights=wind, dissipating=False, max_intensity=300, point_radius=4)\r\n",
    "\r\n",
    "fig.add_layer(heat_layer)\r\n",
    "# Call the figure to plot the data.\r\n",
    "fig"
   ],
   "outputs": [
    {
     "output_type": "display_data",
     "data": {
      "text/plain": [
       "Figure(layout=FigureLayout(height='420px'))"
      ],
      "application/vnd.jupyter.widget-view+json": {
       "version_major": 2,
       "version_minor": 0,
       "model_id": "0d4c037a3ead4ccb9f36222c3861236a"
      }
     },
     "metadata": {}
    }
   ],
   "metadata": {}
  },
  {
   "cell_type": "code",
   "execution_count": 35,
   "source": [
    "# Ask the customer to add a minimum and maximum temperature value.\r\n",
    "min_temp = float(input(\"What is the minimum temperature you would like for your trip? \"))\r\n",
    "max_temp = float(input(\"What is the maximum temperature you would like for your trip? \"))"
   ],
   "outputs": [],
   "metadata": {}
  },
  {
   "cell_type": "code",
   "execution_count": 36,
   "source": [
    "# Filter the dataset to find the cities that fit the criteria.\r\n",
    "preferred_cities_df = city_data_df.loc[(city_data_df[\"Max Temp\"] <= max_temp) & \\\r\n",
    "                                       (city_data_df[\"Max Temp\"] >= min_temp)]\r\n",
    "preferred_cities_df.head(10)"
   ],
   "outputs": [
    {
     "output_type": "execute_result",
     "data": {
      "text/plain": [
       "    City_ID       City Country                 Date      Lat       Lng  \\\n",
       "7         7       Hilo      US  2021-07-23 01:11:12  19.7297 -155.0900   \n",
       "8         8     Albany      US  2021-07-23 01:06:59  42.6001  -73.9662   \n",
       "12       12      Vaini      TO  2021-07-23 01:06:55 -21.2000 -175.2000   \n",
       "13       13    Rikitea      PF  2021-07-23 01:11:13 -23.1203 -134.9692   \n",
       "14       14     Faanui      PF  2021-07-23 01:11:14 -16.4833 -151.7500   \n",
       "20       20    Shimoda      JP  2021-07-23 01:06:20  34.6667  138.9500   \n",
       "23       23     Awbari      LY  2021-07-23 01:11:16  26.5921   12.7805   \n",
       "25       25  Hithadhoo      MV  2021-07-23 01:11:17  -0.6000   73.0833   \n",
       "31       31     Helong      CN  2021-07-23 01:11:19  42.5397  128.9972   \n",
       "32       32   Kurumkan      RU  2021-07-23 01:11:20  54.3000  110.3000   \n",
       "\n",
       "    Max Temp  Humidity  Cloudiness  Wind Speed  \n",
       "7      80.33        80          90       12.66  \n",
       "8      70.63        63         100        3.00  \n",
       "12     80.76        78          20        5.75  \n",
       "13     73.51        73           0       19.33  \n",
       "14     78.01        69          10       14.54  \n",
       "20     82.74        72          31        5.93  \n",
       "23     81.10        25           0       11.14  \n",
       "25     80.82        76         100       10.85  \n",
       "31     82.65        65         100        2.55  \n",
       "32     71.33        64           3        3.51  "
      ],
      "text/html": [
       "<div>\n",
       "<style scoped>\n",
       "    .dataframe tbody tr th:only-of-type {\n",
       "        vertical-align: middle;\n",
       "    }\n",
       "\n",
       "    .dataframe tbody tr th {\n",
       "        vertical-align: top;\n",
       "    }\n",
       "\n",
       "    .dataframe thead th {\n",
       "        text-align: right;\n",
       "    }\n",
       "</style>\n",
       "<table border=\"1\" class=\"dataframe\">\n",
       "  <thead>\n",
       "    <tr style=\"text-align: right;\">\n",
       "      <th></th>\n",
       "      <th>City_ID</th>\n",
       "      <th>City</th>\n",
       "      <th>Country</th>\n",
       "      <th>Date</th>\n",
       "      <th>Lat</th>\n",
       "      <th>Lng</th>\n",
       "      <th>Max Temp</th>\n",
       "      <th>Humidity</th>\n",
       "      <th>Cloudiness</th>\n",
       "      <th>Wind Speed</th>\n",
       "    </tr>\n",
       "  </thead>\n",
       "  <tbody>\n",
       "    <tr>\n",
       "      <th>7</th>\n",
       "      <td>7</td>\n",
       "      <td>Hilo</td>\n",
       "      <td>US</td>\n",
       "      <td>2021-07-23 01:11:12</td>\n",
       "      <td>19.7297</td>\n",
       "      <td>-155.0900</td>\n",
       "      <td>80.33</td>\n",
       "      <td>80</td>\n",
       "      <td>90</td>\n",
       "      <td>12.66</td>\n",
       "    </tr>\n",
       "    <tr>\n",
       "      <th>8</th>\n",
       "      <td>8</td>\n",
       "      <td>Albany</td>\n",
       "      <td>US</td>\n",
       "      <td>2021-07-23 01:06:59</td>\n",
       "      <td>42.6001</td>\n",
       "      <td>-73.9662</td>\n",
       "      <td>70.63</td>\n",
       "      <td>63</td>\n",
       "      <td>100</td>\n",
       "      <td>3.00</td>\n",
       "    </tr>\n",
       "    <tr>\n",
       "      <th>12</th>\n",
       "      <td>12</td>\n",
       "      <td>Vaini</td>\n",
       "      <td>TO</td>\n",
       "      <td>2021-07-23 01:06:55</td>\n",
       "      <td>-21.2000</td>\n",
       "      <td>-175.2000</td>\n",
       "      <td>80.76</td>\n",
       "      <td>78</td>\n",
       "      <td>20</td>\n",
       "      <td>5.75</td>\n",
       "    </tr>\n",
       "    <tr>\n",
       "      <th>13</th>\n",
       "      <td>13</td>\n",
       "      <td>Rikitea</td>\n",
       "      <td>PF</td>\n",
       "      <td>2021-07-23 01:11:13</td>\n",
       "      <td>-23.1203</td>\n",
       "      <td>-134.9692</td>\n",
       "      <td>73.51</td>\n",
       "      <td>73</td>\n",
       "      <td>0</td>\n",
       "      <td>19.33</td>\n",
       "    </tr>\n",
       "    <tr>\n",
       "      <th>14</th>\n",
       "      <td>14</td>\n",
       "      <td>Faanui</td>\n",
       "      <td>PF</td>\n",
       "      <td>2021-07-23 01:11:14</td>\n",
       "      <td>-16.4833</td>\n",
       "      <td>-151.7500</td>\n",
       "      <td>78.01</td>\n",
       "      <td>69</td>\n",
       "      <td>10</td>\n",
       "      <td>14.54</td>\n",
       "    </tr>\n",
       "    <tr>\n",
       "      <th>20</th>\n",
       "      <td>20</td>\n",
       "      <td>Shimoda</td>\n",
       "      <td>JP</td>\n",
       "      <td>2021-07-23 01:06:20</td>\n",
       "      <td>34.6667</td>\n",
       "      <td>138.9500</td>\n",
       "      <td>82.74</td>\n",
       "      <td>72</td>\n",
       "      <td>31</td>\n",
       "      <td>5.93</td>\n",
       "    </tr>\n",
       "    <tr>\n",
       "      <th>23</th>\n",
       "      <td>23</td>\n",
       "      <td>Awbari</td>\n",
       "      <td>LY</td>\n",
       "      <td>2021-07-23 01:11:16</td>\n",
       "      <td>26.5921</td>\n",
       "      <td>12.7805</td>\n",
       "      <td>81.10</td>\n",
       "      <td>25</td>\n",
       "      <td>0</td>\n",
       "      <td>11.14</td>\n",
       "    </tr>\n",
       "    <tr>\n",
       "      <th>25</th>\n",
       "      <td>25</td>\n",
       "      <td>Hithadhoo</td>\n",
       "      <td>MV</td>\n",
       "      <td>2021-07-23 01:11:17</td>\n",
       "      <td>-0.6000</td>\n",
       "      <td>73.0833</td>\n",
       "      <td>80.82</td>\n",
       "      <td>76</td>\n",
       "      <td>100</td>\n",
       "      <td>10.85</td>\n",
       "    </tr>\n",
       "    <tr>\n",
       "      <th>31</th>\n",
       "      <td>31</td>\n",
       "      <td>Helong</td>\n",
       "      <td>CN</td>\n",
       "      <td>2021-07-23 01:11:19</td>\n",
       "      <td>42.5397</td>\n",
       "      <td>128.9972</td>\n",
       "      <td>82.65</td>\n",
       "      <td>65</td>\n",
       "      <td>100</td>\n",
       "      <td>2.55</td>\n",
       "    </tr>\n",
       "    <tr>\n",
       "      <th>32</th>\n",
       "      <td>32</td>\n",
       "      <td>Kurumkan</td>\n",
       "      <td>RU</td>\n",
       "      <td>2021-07-23 01:11:20</td>\n",
       "      <td>54.3000</td>\n",
       "      <td>110.3000</td>\n",
       "      <td>71.33</td>\n",
       "      <td>64</td>\n",
       "      <td>3</td>\n",
       "      <td>3.51</td>\n",
       "    </tr>\n",
       "  </tbody>\n",
       "</table>\n",
       "</div>"
      ]
     },
     "metadata": {},
     "execution_count": 36
    }
   ],
   "metadata": {}
  },
  {
   "cell_type": "code",
   "execution_count": 37,
   "source": [
    "preferred_cities_df.count()"
   ],
   "outputs": [
    {
     "output_type": "execute_result",
     "data": {
      "text/plain": [
       "City_ID       238\n",
       "City          238\n",
       "Country       238\n",
       "Date          238\n",
       "Lat           238\n",
       "Lng           238\n",
       "Max Temp      238\n",
       "Humidity      238\n",
       "Cloudiness    238\n",
       "Wind Speed    238\n",
       "dtype: int64"
      ]
     },
     "metadata": {},
     "execution_count": 37
    }
   ],
   "metadata": {}
  },
  {
   "cell_type": "code",
   "execution_count": 38,
   "source": [
    "# Create DataFrame called hotel_df to store hotel names along with city, country, max temp, and coordinates.\r\n",
    "hotel_df = preferred_cities_df[[\"City\", \"Country\", \"Max Temp\", \"Lat\", \"Lng\"]].copy()\r\n",
    "hotel_df[\"Hotel Name\"] = \"\"\r\n",
    "hotel_df.head(10)\r\n"
   ],
   "outputs": [
    {
     "output_type": "execute_result",
     "data": {
      "text/plain": [
       "         City Country  Max Temp      Lat       Lng Hotel Name\n",
       "7        Hilo      US     80.33  19.7297 -155.0900           \n",
       "8      Albany      US     70.63  42.6001  -73.9662           \n",
       "12      Vaini      TO     80.76 -21.2000 -175.2000           \n",
       "13    Rikitea      PF     73.51 -23.1203 -134.9692           \n",
       "14     Faanui      PF     78.01 -16.4833 -151.7500           \n",
       "20    Shimoda      JP     82.74  34.6667  138.9500           \n",
       "23     Awbari      LY     81.10  26.5921   12.7805           \n",
       "25  Hithadhoo      MV     80.82  -0.6000   73.0833           \n",
       "31     Helong      CN     82.65  42.5397  128.9972           \n",
       "32   Kurumkan      RU     71.33  54.3000  110.3000           "
      ],
      "text/html": [
       "<div>\n",
       "<style scoped>\n",
       "    .dataframe tbody tr th:only-of-type {\n",
       "        vertical-align: middle;\n",
       "    }\n",
       "\n",
       "    .dataframe tbody tr th {\n",
       "        vertical-align: top;\n",
       "    }\n",
       "\n",
       "    .dataframe thead th {\n",
       "        text-align: right;\n",
       "    }\n",
       "</style>\n",
       "<table border=\"1\" class=\"dataframe\">\n",
       "  <thead>\n",
       "    <tr style=\"text-align: right;\">\n",
       "      <th></th>\n",
       "      <th>City</th>\n",
       "      <th>Country</th>\n",
       "      <th>Max Temp</th>\n",
       "      <th>Lat</th>\n",
       "      <th>Lng</th>\n",
       "      <th>Hotel Name</th>\n",
       "    </tr>\n",
       "  </thead>\n",
       "  <tbody>\n",
       "    <tr>\n",
       "      <th>7</th>\n",
       "      <td>Hilo</td>\n",
       "      <td>US</td>\n",
       "      <td>80.33</td>\n",
       "      <td>19.7297</td>\n",
       "      <td>-155.0900</td>\n",
       "      <td></td>\n",
       "    </tr>\n",
       "    <tr>\n",
       "      <th>8</th>\n",
       "      <td>Albany</td>\n",
       "      <td>US</td>\n",
       "      <td>70.63</td>\n",
       "      <td>42.6001</td>\n",
       "      <td>-73.9662</td>\n",
       "      <td></td>\n",
       "    </tr>\n",
       "    <tr>\n",
       "      <th>12</th>\n",
       "      <td>Vaini</td>\n",
       "      <td>TO</td>\n",
       "      <td>80.76</td>\n",
       "      <td>-21.2000</td>\n",
       "      <td>-175.2000</td>\n",
       "      <td></td>\n",
       "    </tr>\n",
       "    <tr>\n",
       "      <th>13</th>\n",
       "      <td>Rikitea</td>\n",
       "      <td>PF</td>\n",
       "      <td>73.51</td>\n",
       "      <td>-23.1203</td>\n",
       "      <td>-134.9692</td>\n",
       "      <td></td>\n",
       "    </tr>\n",
       "    <tr>\n",
       "      <th>14</th>\n",
       "      <td>Faanui</td>\n",
       "      <td>PF</td>\n",
       "      <td>78.01</td>\n",
       "      <td>-16.4833</td>\n",
       "      <td>-151.7500</td>\n",
       "      <td></td>\n",
       "    </tr>\n",
       "    <tr>\n",
       "      <th>20</th>\n",
       "      <td>Shimoda</td>\n",
       "      <td>JP</td>\n",
       "      <td>82.74</td>\n",
       "      <td>34.6667</td>\n",
       "      <td>138.9500</td>\n",
       "      <td></td>\n",
       "    </tr>\n",
       "    <tr>\n",
       "      <th>23</th>\n",
       "      <td>Awbari</td>\n",
       "      <td>LY</td>\n",
       "      <td>81.10</td>\n",
       "      <td>26.5921</td>\n",
       "      <td>12.7805</td>\n",
       "      <td></td>\n",
       "    </tr>\n",
       "    <tr>\n",
       "      <th>25</th>\n",
       "      <td>Hithadhoo</td>\n",
       "      <td>MV</td>\n",
       "      <td>80.82</td>\n",
       "      <td>-0.6000</td>\n",
       "      <td>73.0833</td>\n",
       "      <td></td>\n",
       "    </tr>\n",
       "    <tr>\n",
       "      <th>31</th>\n",
       "      <td>Helong</td>\n",
       "      <td>CN</td>\n",
       "      <td>82.65</td>\n",
       "      <td>42.5397</td>\n",
       "      <td>128.9972</td>\n",
       "      <td></td>\n",
       "    </tr>\n",
       "    <tr>\n",
       "      <th>32</th>\n",
       "      <td>Kurumkan</td>\n",
       "      <td>RU</td>\n",
       "      <td>71.33</td>\n",
       "      <td>54.3000</td>\n",
       "      <td>110.3000</td>\n",
       "      <td></td>\n",
       "    </tr>\n",
       "  </tbody>\n",
       "</table>\n",
       "</div>"
      ]
     },
     "metadata": {},
     "execution_count": 38
    }
   ],
   "metadata": {}
  },
  {
   "cell_type": "code",
   "execution_count": 39,
   "source": [
    "# Set parameters to search for a hotel.\r\n",
    "params = {\r\n",
    "    \"radius\": 5000,\r\n",
    "    \"type\": \"lodging\",\r\n",
    "    \"key\": g_key\r\n",
    "}"
   ],
   "outputs": [],
   "metadata": {}
  },
  {
   "cell_type": "code",
   "execution_count": 47,
   "source": [
    "# Iterate through the DataFrame.\r\n",
    "for index, row in hotel_df.iterrows():\r\n",
    "    # Get the latitude and longitude.\r\n",
    "    lat = row[\"Lat\"]\r\n",
    "    lng = row[\"Lng\"]\r\n",
    "\r\n",
    "    # Add the latitude and longitude to location key for the params dictionary.\r\n",
    "    params[\"location\"] = f\"{lat},{lng}\"\r\n",
    "\r\n",
    "    # Use the search term: \"lodging\" and our latitude and longitude.\r\n",
    "    base_url = \"https://maps.googleapis.com/maps/api/place/nearbysearch/json\"\r\n",
    "    # Make request and get the JSON data from the search.\r\n",
    "    hotels = requests.get(base_url, params=params).json()\r\n",
    "    # Grab the first hotel from the results and store the name.\r\n",
    "    try:\r\n",
    "        hotel_df.loc[index, \"Hotel Name\"] = hotels[\"results\"][0][\"name\"]\r\n",
    "    except (IndexError):\r\n",
    "        print(\"Hotel not found... skipping.\")\r\n"
   ],
   "outputs": [
    {
     "output_type": "stream",
     "name": "stdout",
     "text": [
      "Hotel not found... skipping.\n",
      "Hotel not found... skipping.\n",
      "Hotel not found... skipping.\n",
      "Hotel not found... skipping.\n",
      "Hotel not found... skipping.\n",
      "Hotel not found... skipping.\n",
      "Hotel not found... skipping.\n",
      "Hotel not found... skipping.\n",
      "Hotel not found... skipping.\n",
      "Hotel not found... skipping.\n",
      "Hotel not found... skipping.\n",
      "Hotel not found... skipping.\n",
      "Hotel not found... skipping.\n",
      "Hotel not found... skipping.\n",
      "Hotel not found... skipping.\n",
      "Hotel not found... skipping.\n",
      "Hotel not found... skipping.\n",
      "Hotel not found... skipping.\n",
      "Hotel not found... skipping.\n",
      "Hotel not found... skipping.\n"
     ]
    }
   ],
   "metadata": {}
  },
  {
   "cell_type": "code",
   "execution_count": 48,
   "source": [
    "hotel_df"
   ],
   "outputs": [
    {
     "output_type": "execute_result",
     "data": {
      "text/plain": [
       "         City Country  Max Temp      Lat       Lng  \\\n",
       "7        Hilo      US     80.33  19.7297 -155.0900   \n",
       "8      Albany      US     70.63  42.6001  -73.9662   \n",
       "12      Vaini      TO     80.76 -21.2000 -175.2000   \n",
       "13    Rikitea      PF     73.51 -23.1203 -134.9692   \n",
       "14     Faanui      PF     78.01 -16.4833 -151.7500   \n",
       "..        ...     ...       ...      ...       ...   \n",
       "537  Rosarito      MX     75.20  32.3333 -117.0333   \n",
       "544    Trairi      BR     79.09  -3.2778  -39.2689   \n",
       "546     Polis      CY     76.82  35.0367   32.4264   \n",
       "548   Chulman      RU     71.94  56.8479  124.9104   \n",
       "549   Winslow      US     80.78  35.0242 -110.6974   \n",
       "\n",
       "                             Hotel Name  \n",
       "7                   Hilo Hawaiian Hotel  \n",
       "8                                        \n",
       "12                  Keleti Beach Resort  \n",
       "13                      People ThankYou  \n",
       "14   Bora-Bora Pearl Beach Resort & Spa  \n",
       "..                                  ...  \n",
       "537       Hotel Festival Plaza Rosarito  \n",
       "544                      janelas do mar  \n",
       "546                              Marion  \n",
       "548                          Gostinitsa  \n",
       "549       Best Western Plus Winslow Inn  \n",
       "\n",
       "[238 rows x 6 columns]"
      ],
      "text/html": [
       "<div>\n",
       "<style scoped>\n",
       "    .dataframe tbody tr th:only-of-type {\n",
       "        vertical-align: middle;\n",
       "    }\n",
       "\n",
       "    .dataframe tbody tr th {\n",
       "        vertical-align: top;\n",
       "    }\n",
       "\n",
       "    .dataframe thead th {\n",
       "        text-align: right;\n",
       "    }\n",
       "</style>\n",
       "<table border=\"1\" class=\"dataframe\">\n",
       "  <thead>\n",
       "    <tr style=\"text-align: right;\">\n",
       "      <th></th>\n",
       "      <th>City</th>\n",
       "      <th>Country</th>\n",
       "      <th>Max Temp</th>\n",
       "      <th>Lat</th>\n",
       "      <th>Lng</th>\n",
       "      <th>Hotel Name</th>\n",
       "    </tr>\n",
       "  </thead>\n",
       "  <tbody>\n",
       "    <tr>\n",
       "      <th>7</th>\n",
       "      <td>Hilo</td>\n",
       "      <td>US</td>\n",
       "      <td>80.33</td>\n",
       "      <td>19.7297</td>\n",
       "      <td>-155.0900</td>\n",
       "      <td>Hilo Hawaiian Hotel</td>\n",
       "    </tr>\n",
       "    <tr>\n",
       "      <th>8</th>\n",
       "      <td>Albany</td>\n",
       "      <td>US</td>\n",
       "      <td>70.63</td>\n",
       "      <td>42.6001</td>\n",
       "      <td>-73.9662</td>\n",
       "      <td></td>\n",
       "    </tr>\n",
       "    <tr>\n",
       "      <th>12</th>\n",
       "      <td>Vaini</td>\n",
       "      <td>TO</td>\n",
       "      <td>80.76</td>\n",
       "      <td>-21.2000</td>\n",
       "      <td>-175.2000</td>\n",
       "      <td>Keleti Beach Resort</td>\n",
       "    </tr>\n",
       "    <tr>\n",
       "      <th>13</th>\n",
       "      <td>Rikitea</td>\n",
       "      <td>PF</td>\n",
       "      <td>73.51</td>\n",
       "      <td>-23.1203</td>\n",
       "      <td>-134.9692</td>\n",
       "      <td>People ThankYou</td>\n",
       "    </tr>\n",
       "    <tr>\n",
       "      <th>14</th>\n",
       "      <td>Faanui</td>\n",
       "      <td>PF</td>\n",
       "      <td>78.01</td>\n",
       "      <td>-16.4833</td>\n",
       "      <td>-151.7500</td>\n",
       "      <td>Bora-Bora Pearl Beach Resort &amp; Spa</td>\n",
       "    </tr>\n",
       "    <tr>\n",
       "      <th>...</th>\n",
       "      <td>...</td>\n",
       "      <td>...</td>\n",
       "      <td>...</td>\n",
       "      <td>...</td>\n",
       "      <td>...</td>\n",
       "      <td>...</td>\n",
       "    </tr>\n",
       "    <tr>\n",
       "      <th>537</th>\n",
       "      <td>Rosarito</td>\n",
       "      <td>MX</td>\n",
       "      <td>75.20</td>\n",
       "      <td>32.3333</td>\n",
       "      <td>-117.0333</td>\n",
       "      <td>Hotel Festival Plaza Rosarito</td>\n",
       "    </tr>\n",
       "    <tr>\n",
       "      <th>544</th>\n",
       "      <td>Trairi</td>\n",
       "      <td>BR</td>\n",
       "      <td>79.09</td>\n",
       "      <td>-3.2778</td>\n",
       "      <td>-39.2689</td>\n",
       "      <td>janelas do mar</td>\n",
       "    </tr>\n",
       "    <tr>\n",
       "      <th>546</th>\n",
       "      <td>Polis</td>\n",
       "      <td>CY</td>\n",
       "      <td>76.82</td>\n",
       "      <td>35.0367</td>\n",
       "      <td>32.4264</td>\n",
       "      <td>Marion</td>\n",
       "    </tr>\n",
       "    <tr>\n",
       "      <th>548</th>\n",
       "      <td>Chulman</td>\n",
       "      <td>RU</td>\n",
       "      <td>71.94</td>\n",
       "      <td>56.8479</td>\n",
       "      <td>124.9104</td>\n",
       "      <td>Gostinitsa</td>\n",
       "    </tr>\n",
       "    <tr>\n",
       "      <th>549</th>\n",
       "      <td>Winslow</td>\n",
       "      <td>US</td>\n",
       "      <td>80.78</td>\n",
       "      <td>35.0242</td>\n",
       "      <td>-110.6974</td>\n",
       "      <td>Best Western Plus Winslow Inn</td>\n",
       "    </tr>\n",
       "  </tbody>\n",
       "</table>\n",
       "<p>238 rows × 6 columns</p>\n",
       "</div>"
      ]
     },
     "metadata": {},
     "execution_count": 48
    }
   ],
   "metadata": {}
  },
  {
   "cell_type": "code",
   "execution_count": 49,
   "source": [
    "# Add a heatmap of temperature for the vacation spots.\r\n",
    "locations = hotel_df[[\"Lat\", \"Lng\"]]\r\n",
    "max_temp = hotel_df[\"Max Temp\"]\r\n",
    "fig = gmaps.figure(center=(30.0, 31.0), zoom_level=1.5)\r\n",
    "heat_layer = gmaps.heatmap_layer(locations, weights=max_temp, dissipating=False,\r\n",
    "             max_intensity=300, point_radius=4)\r\n",
    "\r\n",
    "fig.add_layer(heat_layer)\r\n",
    "# Call the figure to plot the data.\r\n",
    "fig"
   ],
   "outputs": [
    {
     "output_type": "display_data",
     "data": {
      "text/plain": [
       "Figure(layout=FigureLayout(height='420px'))"
      ],
      "application/vnd.jupyter.widget-view+json": {
       "version_major": 2,
       "version_minor": 0,
       "model_id": "89b24c67f3b54e73a099206661c0c283"
      }
     },
     "metadata": {}
    }
   ],
   "metadata": {}
  },
  {
   "cell_type": "code",
   "execution_count": 50,
   "source": [
    "# Add a heatmap of temperature for the vacation spots and marker for each city.\r\n",
    "locations = hotel_df[[\"Lat\", \"Lng\"]]\r\n",
    "max_temp = hotel_df[\"Max Temp\"]\r\n",
    "fig = gmaps.figure(center=(30.0, 31.0), zoom_level=1.5)\r\n",
    "heat_layer = gmaps.heatmap_layer(locations, weights=max_temp,\r\n",
    "             dissipating=False, max_intensity=300, point_radius=4)\r\n",
    "marker_layer = gmaps.marker_layer(locations)\r\n",
    "fig.add_layer(heat_layer)\r\n",
    "fig.add_layer(marker_layer)\r\n",
    "# Call the figure to plot the data.\r\n",
    "fig"
   ],
   "outputs": [
    {
     "output_type": "display_data",
     "data": {
      "text/plain": [
       "Figure(layout=FigureLayout(height='420px'))"
      ],
      "application/vnd.jupyter.widget-view+json": {
       "version_major": 2,
       "version_minor": 0,
       "model_id": "264ae0368cec4f2b91a923eef76618e2"
      }
     },
     "metadata": {}
    }
   ],
   "metadata": {}
  },
  {
   "cell_type": "code",
   "execution_count": 53,
   "source": [
    "info_box_template = \"\"\"\r\n",
    "<dl>\r\n",
    "<dt>Hotel Name</dt><dd>{Hotel Name}</dd>\r\n",
    "<dt>City</dt><dd>{City}</dd>\r\n",
    "<dt>Country</dt><dd>{Country}</dd>\r\n",
    "<dt>Max Temp</dt><dd>{Max Temp} °F</dd>\r\n",
    "</dl>\r\n",
    "\"\"\"\r\n",
    "\r\n",
    "# Store the DataFrame Row.\r\n",
    "hotel_info = [info_box_template.format(**row) for index, row in hotel_df.iterrows()]"
   ],
   "outputs": [],
   "metadata": {}
  },
  {
   "cell_type": "code",
   "execution_count": 54,
   "source": [
    "# Add a heatmap of temperature for the vacation spots and a pop-up marker for each city.\r\n",
    "locations = hotel_df[[\"Lat\", \"Lng\"]]\r\n",
    "max_temp = hotel_df[\"Max Temp\"]\r\n",
    "fig = gmaps.figure(center=(30.0, 31.0), zoom_level=1.5)\r\n",
    "heat_layer = gmaps.heatmap_layer(locations, weights=max_temp,dissipating=False,\r\n",
    "             max_intensity=300, point_radius=4)\r\n",
    "marker_layer = gmaps.marker_layer(locations, info_box_content=hotel_info)\r\n",
    "fig.add_layer(heat_layer)\r\n",
    "fig.add_layer(marker_layer)\r\n",
    "\r\n",
    "# Call the figure to plot the data.\r\n",
    "fig"
   ],
   "outputs": [
    {
     "output_type": "display_data",
     "data": {
      "text/plain": [
       "Figure(layout=FigureLayout(height='420px'))"
      ],
      "application/vnd.jupyter.widget-view+json": {
       "version_major": 2,
       "version_minor": 0,
       "model_id": "5dc6245621644f9680e802c56be412c9"
      }
     },
     "metadata": {}
    }
   ],
   "metadata": {}
  },
  {
   "cell_type": "code",
   "execution_count": null,
   "source": [],
   "outputs": [],
   "metadata": {}
  }
 ],
 "metadata": {
  "kernelspec": {
   "name": "python3",
   "display_name": "Python 3.8.10 64-bit ('PyData': conda)"
  },
  "language_info": {
   "codemirror_mode": {
    "name": "ipython",
    "version": 3
   },
   "file_extension": ".py",
   "mimetype": "text/x-python",
   "name": "python",
   "nbconvert_exporter": "python",
   "pygments_lexer": "ipython3",
   "version": "3.8.10"
  },
  "interpreter": {
   "hash": "a5569d38c3a764c473533fb346030f9a538b69d777015d63c33acdd1798f0995"
  }
 },
 "nbformat": 4,
 "nbformat_minor": 5
}