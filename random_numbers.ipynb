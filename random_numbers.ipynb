{
 "cells": [
  {
   "cell_type": "code",
   "execution_count": 1,
   "id": "fa01df91",
   "metadata": {},
   "outputs": [],
   "source": [
    "import random"
   ]
  },
  {
   "cell_type": "code",
   "execution_count": 2,
   "id": "7ffe3441",
   "metadata": {},
   "outputs": [
    {
     "data": {
      "text/plain": [
       "0.7602958947484096"
      ]
     },
     "execution_count": 2,
     "metadata": {},
     "output_type": "execute_result"
    }
   ],
   "source": [
    "#Generates a random float point bettween 0 & 1\n",
    "random.random()"
   ]
  },
  {
   "cell_type": "code",
   "execution_count": 6,
   "id": "b4cd2299",
   "metadata": {},
   "outputs": [
    {
     "data": {
      "text/plain": [
       "67"
      ]
     },
     "execution_count": 6,
     "metadata": {},
     "output_type": "execute_result"
    }
   ],
   "source": [
    "#Produces a random integer between the range given\n",
    "random.randint(-90, 90)"
   ]
  },
  {
   "cell_type": "code",
   "execution_count": 4,
   "id": "fb15ee49",
   "metadata": {},
   "outputs": [
    {
     "data": {
      "text/plain": [
       "-1"
      ]
     },
     "execution_count": 4,
     "metadata": {},
     "output_type": "execute_result"
    }
   ],
   "source": [
    "#Produces a random integer within a specified range. The potential random values are limited by the step argument. \n",
    "#it takes steps from the upper to the lower boundry\n",
    "\n",
    "random.randrange(-9,9,2)"
   ]
  },
  {
   "cell_type": "code",
   "execution_count": 5,
   "id": "5f7e393b",
   "metadata": {},
   "outputs": [
    {
     "data": {
      "text/plain": [
       "-7.994321183161992"
      ]
     },
     "execution_count": 5,
     "metadata": {},
     "output_type": "execute_result"
    }
   ],
   "source": [
    "#Picks random from specified range, but its not an integer, its a float with multiple decimals (you can round it)\n",
    "random.uniform(-10, 10)"
   ]
  },
  {
   "cell_type": "code",
   "execution_count": 7,
   "id": "fec2be35",
   "metadata": {},
   "outputs": [],
   "source": [
    "#Uses a combination of randoms to get us lattitude, but is a bit clunky\n",
    "x = 1\n",
    "latitudes = []\n",
    "while x < 11:\n",
    "    random_lat = random.randint(-90, 89) + random.random()\n",
    "    latitudes.append(random_lat)\n",
    "    x += 1"
   ]
  },
  {
   "cell_type": "code",
   "execution_count": 8,
   "id": "16a4754b",
   "metadata": {},
   "outputs": [
    {
     "data": {
      "text/plain": [
       "68"
      ]
     },
     "execution_count": 8,
     "metadata": {},
     "output_type": "execute_result"
    }
   ],
   "source": [
    "#Make a random range with a step function (Step of 1 is default and it will use this if not specified)\n",
    "random.randrange(-90, 90, step=1)"
   ]
  },
  {
   "cell_type": "code",
   "execution_count": 12,
   "id": "38158d32",
   "metadata": {},
   "outputs": [
    {
     "data": {
      "text/plain": [
       "48"
      ]
     },
     "execution_count": 12,
     "metadata": {},
     "output_type": "execute_result"
    }
   ],
   "source": [
    "#Random Range with a Step of 3\n",
    "random.randrange(-90, 90, step=3)"
   ]
  },
  {
   "cell_type": "code",
   "execution_count": 13,
   "id": "8c68d1f3",
   "metadata": {},
   "outputs": [
    {
     "data": {
      "text/plain": [
       "20.329995089072682"
      ]
     },
     "execution_count": 13,
     "metadata": {},
     "output_type": "execute_result"
    }
   ],
   "source": [
    "#Random Uniform gives us a random float within a range\n",
    "random.uniform(-90, 90)"
   ]
  },
  {
   "cell_type": "code",
   "execution_count": null,
   "id": "820b3c45",
   "metadata": {},
   "outputs": [],
   "source": [
    "#Function\tOutput\tLimitation\n",
    "#randint(-90, 89)\tReturns an integer between the interval, -90 and up to 89.\tWill not generate a floating-point decimal number.\n",
    "#random()\tReturns a floating-point decimal number between 0 and 1.\tWill not generate a whole integer.\n",
    "#randrange(-90, 90, step=1)\tReturns a whole integer between the interval, -90 and 90 where the step is the difference between each number in the sequence.\tWill not generate a floating-point decimal number.\n",
    "#uniform(-90, 90)\tReturns a floating-point decimal number between the interval, -90 and 90.\tWill not generate a whole integer."
   ]
  },
  {
   "cell_type": "code",
   "execution_count": 14,
   "id": "8f392fdc",
   "metadata": {},
   "outputs": [],
   "source": [
    "import numpy as np"
   ]
  },
  {
   "cell_type": "code",
   "execution_count": 15,
   "id": "44ef04e4",
   "metadata": {},
   "outputs": [
    {
     "data": {
      "text/plain": [
       "-17.016762168572342"
      ]
     },
     "execution_count": 15,
     "metadata": {},
     "output_type": "execute_result"
    }
   ],
   "source": [
    "#Numpy has its on random so if you use it you dont have to import random\n",
    "np.random.uniform(-90.000, 90.000)"
   ]
  },
  {
   "cell_type": "code",
   "execution_count": 16,
   "id": "54ebab1c",
   "metadata": {},
   "outputs": [
    {
     "data": {
      "text/plain": [
       "array([-55.25488532, -79.40620905, -57.4867683 ,  -0.85423767,\n",
       "       -46.26796571,  50.44262672,  15.65455063,  15.21874957,\n",
       "       -68.44309793, -54.01319083,  46.8958996 ,  81.37694355,\n",
       "       -63.68841931, -77.3457524 ,  57.29623709,  33.43073938,\n",
       "       -49.08857152,  68.84420953, -46.5811003 ,  44.08196088,\n",
       "        23.49057754,   7.26256443,  44.57336695,  30.68785389,\n",
       "       -38.10936833, -70.60426031, -75.42423887, -59.68260719,\n",
       "       -18.42147371, -85.33402947,  28.67914289, -44.93123814,\n",
       "       -18.23254922, -76.7378937 ,  -0.34395525, -68.50810897,\n",
       "        49.59405425, -75.61614563,  56.63153939, -38.48900624,\n",
       "        -0.83130501,  17.05496141, -27.81580838,  80.15691565,\n",
       "       -85.35865355, -18.69220917, -44.8978671 ,  -0.37286544,\n",
       "       -69.01943829, -48.83313849])"
      ]
     },
     "execution_count": 16,
     "metadata": {},
     "output_type": "execute_result"
    }
   ],
   "source": [
    "np.random.uniform(-90.000, 90.000, size=50)"
   ]
  },
  {
   "cell_type": "code",
   "execution_count": 17,
   "id": "d3f082fc",
   "metadata": {},
   "outputs": [],
   "source": [
    "#Import Timeit\n",
    "import timeit"
   ]
  },
  {
   "cell_type": "code",
   "execution_count": 19,
   "id": "510425a1",
   "metadata": {},
   "outputs": [
    {
     "name": "stdout",
     "output_type": "stream",
     "text": [
      "11.6 µs ± 121 ns per loop (mean ± std. dev. of 7 runs, 100000 loops each)\n"
     ]
    }
   ],
   "source": [
    "%timeit np.random.uniform(-90.000, 90.000, size=1500)\n"
   ]
  },
  {
   "cell_type": "code",
   "execution_count": 20,
   "id": "1289a94d",
   "metadata": {},
   "outputs": [
    {
     "name": "stdout",
     "output_type": "stream",
     "text": [
      "1.29 ms ± 9.99 µs per loop (mean ± std. dev. of 7 runs, 1000 loops each)\n"
     ]
    }
   ],
   "source": [
    "def latitudes(size):\n",
    "    latitudes = []\n",
    "    x = 0\n",
    "    while x < (size):\n",
    "        random_lat = random.randint(-90, 90) + random.random()\n",
    "        latitudes.append(random_lat)\n",
    "        x += 1\n",
    "    return latitudes\n",
    "# Call the function with 1500.\n",
    "%timeit latitudes(1500)"
   ]
  },
  {
   "cell_type": "code",
   "execution_count": null,
   "id": "2f75e653",
   "metadata": {},
   "outputs": [],
   "source": []
  },
  {
   "cell_type": "code",
   "execution_count": null,
   "id": "7e24ca85",
   "metadata": {},
   "outputs": [],
   "source": []
  }
 ],
 "metadata": {
  "kernelspec": {
   "display_name": "PyData",
   "language": "python",
   "name": "pydata"
  },
  "language_info": {
   "codemirror_mode": {
    "name": "ipython",
    "version": 3
   },
   "file_extension": ".py",
   "mimetype": "text/x-python",
   "name": "python",
   "nbconvert_exporter": "python",
   "pygments_lexer": "ipython3",
   "version": "3.8.10"
  }
 },
 "nbformat": 4,
 "nbformat_minor": 5
}
